{
 "cells": [
  {
   "cell_type": "markdown",
   "id": "0809e785",
   "metadata": {},
   "source": [
    "# 1. Import the necessary libraries for you to be able to query 4square API"
   ]
  },
  {
   "cell_type": "code",
   "execution_count": 1,
   "id": "9b373771",
   "metadata": {},
   "outputs": [],
   "source": [
    "import requests\n",
    "import json\n",
    "import pandas as pd"
   ]
  },
  {
   "cell_type": "code",
   "execution_count": 2,
   "id": "88d122de",
   "metadata": {},
   "outputs": [],
   "source": [
    "from dotenv import load_dotenv\n",
    "import os\n",
    "\n",
    "load_dotenv()\n",
    "api_key = os.getenv(\"foursquare\")"
   ]
  },
  {
   "cell_type": "markdown",
   "id": "e94dce92",
   "metadata": {},
   "source": [
    "# 2. Get names and location of the 10 coffee places by passing Ironhack as your location"
   ]
  },
  {
   "cell_type": "code",
   "execution_count": 10,
   "id": "1d72f571",
   "metadata": {},
   "outputs": [
    {
     "name": "stdout",
     "output_type": "stream",
     "text": [
      "{\"results\":[{\"fsq_id\":\"4ac518e7f964a52067ab20e3\",\"categories\":[{\"id\":10026,\"name\":\"Indie Movie Theater\",\"short_name\":\"Indie Movies\",\"plural_name\":\"Indie Movie Theaters\",\"icon\":{\"prefix\":\"https://ss3.4sqi.net/img/categories_v2/arts_entertainment/movietheater_\",\"suffix\":\".png\"}},{\"id\":13003,\"name\":\"Bar\",\"short_name\":\"Bar\",\"plural_name\":\"Bars\",\"icon\":{\"prefix\":\"https://ss3.4sqi.net/img/categories_v2/nightlife/pub_\",\"suffix\":\".png\"}},{\"id\":13032,\"name\":\"Cafe, Coffee, and Tea House\",\"short_name\":\"Cafe, Coffee, and Tea House\",\"plural_name\":\"Cafes, Coffee, and Tea Houses\",\"icon\":{\"prefix\":\"https://ss3.4sqi.net/img/categories_v2/food/coffeeshop_\",\"suffix\":\".png\"}}],\"chains\":[],\"closed_bucket\":\"VeryLikelyOpen\",\"distance\":773,\"geocodes\":{\"main\":{\"latitude\":51.506455,\"longitude\":-0.11474},\"roof\":{\"latitude\":51.506455,\"longitude\":-0.11474}},\"link\":\"/v3/places/4ac518e7f964a52067ab20e3\",\"location\":{\"address\":\"Belvedere Rd\",\"admin_region\":\"England\",\"country\":\"GB\",\"cross_street\":\"\",\"formatted_address\":\"Belvedere Rd, London, Greater London, SE1 8XT\",\"locality\":\"London\",\"post_town\":\"London\",\"postcode\":\"SE1 8XT\",\"region\":\"Greater London\"},\"name\":\"BFI Southbank\",\"related_places\":{\"children\":[{\"fsq_id\":\"4ae9e00ff964a52036b721e3\",\"categories\":[{\"id\":13003,\"name\":\"Bar\",\"short_name\":\"Bar\",\"plural_name\":\"Bars\",\"icon\":{\"prefix\":\"https://ss3.4sqi.net/img/categories_v2/nightlife/pub_\",\"suffix\":\".png\"}},{\"id\":13027,\"name\":\"Bistro\",\"short_name\":\"Bistro\",\"plural_name\":\"Bistros\",\"icon\":{\"prefix\":\"https://ss3.4sqi.net/img/categories_v2/food/default_\",\"suffix\":\".png\"}},{\"id\":13142,\"name\":\"English Restaurant\",\"short_name\":\"English\",\"plural_name\":\"English Restaurants\",\"icon\":{\"prefix\":\"https://ss3.4sqi.net/img/categories_v2/food/default_\",\"suffix\":\".png\"}}],\"name\":\"BFI Bar & Kitchen\"},{\"fsq_id\":\"4ead937b77c8cdc66d60c624\",\"categories\":[{\"id\":13009,\"name\":\"Cocktail Bar\",\"short_name\":\"Cocktail\",\"plural_name\":\"Cocktail Bars\",\"icon\":{\"prefix\":\"https://ss3.4sqi.net/img/categories_v2/nightlife/cocktails_\",\"suffix\":\".png\"}},{\"id\":13065,\"name\":\"Restaurant\",\"short_name\":\"Restaurant\",\"plural_name\":\"Restaurants\",\"icon\":{\"prefix\":\"https://ss3.4sqi.net/img/categories_v2/food/default_\",\"suffix\":\".png\"}}],\"name\":\"The Drawing Room\"},{\"fsq_id\":\"63a5be82fd159053d3d4abf6\",\"categories\":[{\"id\":13034,\"name\":\"Café\",\"short_name\":\"Café\",\"plural_name\":\"Cafés\",\"icon\":{\"prefix\":\"https://ss3.4sqi.net/img/categories_v2/food/cafe_\",\"suffix\":\".png\"}}],\"name\":\"BFI Café\"},{\"fsq_id\":\"502fbf2fe4b0c17c824dfc85\",\"categories\":[{\"id\":12080,\"name\":\"Library\",\"short_name\":\"Library\",\"plural_name\":\"Libraries\",\"icon\":{\"prefix\":\"https://ss3.4sqi.net/img/categories_v2/building/library_\",\"suffix\":\".png\"}}],\"name\":\"BFI Reuben Library\"},{\"fsq_id\":\"4c9e29b58afca09323eafd15\",\"categories\":[{\"id\":10026,\"name\":\"Indie Movie Theater\",\"short_name\":\"Indie Movies\",\"plural_name\":\"Indie Movie Theaters\",\"icon\":{\"prefix\":\"https://ss3.4sqi.net/img/categories_v2/arts_entertainment/movietheater_\",\"suffix\":\".png\"}},{\"id\":17100,\"name\":\"Newsstand\",\"short_name\":\"Newsstand\",\"plural_name\":\"Newsstands\",\"icon\":{\"prefix\":\"https://ss3.4sqi.net/img/categories_v2/shops/newsstand_\",\"suffix\":\".png\"}}],\"name\":\"BFI Mediatheque\"},{\"fsq_id\":\"4e709d2cd22d2dfc31b91230\",\"categories\":[{\"id\":11039,\"name\":\"Event Space\",\"short_name\":\"Event Space\",\"plural_name\":\"Event Spaces\",\"icon\":{\"prefix\":\"https://ss3.4sqi.net/img/categories_v2/building/eventspace_\",\"suffix\":\".png\"}}],\"name\":\"BFI Mezzanine Gallery\"},{\"fsq_id\":\"4ba5102ef964a520c6d738e3\",\"categories\":[{\"id\":17137,\"name\":\"Video Store\",\"short_name\":\"Video Store\",\"plural_name\":\"Video Stores\",\"icon\":{\"prefix\":\"https://ss3.4sqi.net/img/categories_v2/shops/video_\",\"suffix\":\".png\"}}],\"name\":\"BFI Shop\"}]},\"timezone\":\"Europe/London\"},{\"fsq_id\":\"4ac518edf964a520c1ac20e3\",\"categories\":[{\"id\":13035,\"name\":\"Coffee Shop\",\"short_name\":\"Coffee Shop\",\"plural_name\":\"Coffee Shops\",\"icon\":{\"prefix\":\"https://ss3.4sqi.net/img/categories_v2/food/coffeeshop_\",\"suffix\":\".png\"}},{\"id\":13065,\"name\":\"Restaurant\",\"short_name\":\"Restaurant\",\"plural_name\":\"Restaurants\",\"icon\":{\"prefix\":\"https://ss3.4sqi.net/img/categories_v2/food/default_\",\"suffix\":\".png\"}}],\"chains\":[],\"closed_bucket\":\"VeryLikelyOpen\",\"distance\":647,\"geocodes\":{\"drop_off\":{\"latitude\":51.514355,\"longitude\":-0.126913},\"main\":{\"latitude\":51.514337,\"longitude\":-0.126798},\"roof\":{\"latitude\":51.514337,\"longitude\":-0.126798}},\"link\":\"/v3/places/4ac518edf964a520c1ac20e3\",\"location\":{\"address\":\"27 Monmouth St, Covent Garden\",\"admin_region\":\"England\",\"country\":\"GB\",\"formatted_address\":\"27 Monmouth St, Covent Garden, London, Greater London, WC2H 9DD\",\"locality\":\"London\",\"post_town\":\"London\",\"postcode\":\"WC2H 9DD\",\"region\":\"Greater London\"},\"name\":\"Monmouth Coffee Company\",\"related_places\":{},\"timezone\":\"Europe/London\"},{\"fsq_id\":\"4dcaa14a183817362fe73490\",\"categories\":[{\"id\":13032,\"name\":\"Cafe, Coffee, and Tea House\",\"short_name\":\"Cafe, Coffee, and Tea House\",\"plural_name\":\"Cafes, Coffee, and Tea Houses\",\"icon\":{\"prefix\":\"https://ss3.4sqi.net/img/categories_v2/food/coffeeshop_\",\"suffix\":\".png\"}},{\"id\":13040,\"name\":\"Dessert Shop\",\"short_name\":\"Desserts\",\"plural_name\":\"Dessert Shops\",\"icon\":{\"prefix\":\"https://ss3.4sqi.net/img/categories_v2/food/dessert_\",\"suffix\":\".png\"}},{\"id\":13148,\"name\":\"French Restaurant\",\"short_name\":\"French\",\"plural_name\":\"French Restaurants\",\"icon\":{\"prefix\":\"https://ss3.4sqi.net/img/categories_v2/food/french_\",\"suffix\":\".png\"}}],\"chains\":[],\"closed_bucket\":\"VeryLikelyOpen\",\"distance\":439,\"geocodes\":{\"main\":{\"latitude\":51.512038,\"longitude\":-0.122701},\"roof\":{\"latitude\":51.512038,\"longitude\":-0.122701}},\"link\":\"/v3/places/4dcaa14a183817362fe73490\",\"location\":{\"address\":\"1 The Market\",\"admin_region\":\"England\",\"country\":\"GB\",\"formatted_address\":\"1 The Market, Covent Garden, Greater London, WC2E 8RA\",\"locality\":\"London\",\"post_town\":\"London\",\"postcode\":\"WC2E 8RA\",\"region\":\"Greater London\"},\"name\":\"Ladurée\",\"related_places\":{\"parent\":{\"fsq_id\":\"4ba6419bf964a520b23f39e3\",\"categories\":[{\"id\":17115,\"name\":\"Shopping Plaza\",\"short_name\":\"Shopping Plaza\",\"plural_name\":\"Shopping Plazas\",\"icon\":{\"prefix\":\"https://ss3.4sqi.net/img/categories_v2/shops/mall_\",\"suffix\":\".png\"}}],\"name\":\"Covent Garden Market\"}},\"timezone\":\"Europe/London\"},{\"fsq_id\":\"62fb8c8fbfb8ca2188f33f44\",\"categories\":[{\"id\":13035,\"name\":\"Coffee Shop\",\"short_name\":\"Coffee Shop\",\"plural_name\":\"Coffee Shops\",\"icon\":{\"prefix\":\"https://ss3.4sqi.net/img/categories_v2/food/coffeeshop_\",\"suffix\":\".png\"}}],\"chains\":[],\"closed_bucket\":\"LikelyOpen\",\"distance\":1448,\"geocodes\":{\"main\":{\"latitude\":51.51370362780288,\"longitude\":-0.14496803283691406}},\"link\":\"/v3/places/62fb8c8fbfb8ca2188f33f44\",\"location\":{\"address\":\"2-3 Medici Courtyard\",\"admin_region\":\"England\",\"country\":\"GB\",\"cross_street\":\"\",\"formatted_address\":\"2-3 Medici Courtyard, London, Greater London\",\"locality\":\"London\",\"post_town\":\"London\",\"region\":\"Greater London\"},\"name\":\"WatchHouse\",\"related_places\":{\"parent\":{\"fsq_id\":\"6334cf75952d8b183862da06\",\"categories\":[{\"id\":16040,\"name\":\"Pedestrian Plaza\",\"short_name\":\"Pedestrian Street/Plaza\",\"plural_name\":\"Pedestrian Plazas\",\"icon\":{\"prefix\":\"https://ss3.4sqi.net/img/categories_v2/parks_outdoors/default_\",\"suffix\":\".png\"}}],\"name\":\"Medici Courtyard\"}},\"timezone\":\"Europe/London\"},{\"fsq_id\":\"5e53df6702591a0008791559\",\"categories\":[{\"id\":13035,\"name\":\"Coffee Shop\",\"short_name\":\"Coffee Shop\",\"plural_name\":\"Coffee Shops\",\"icon\":{\"prefix\":\"https://ss3.4sqi.net/img/categories_v2/food/coffeeshop_\",\"suffix\":\".png\"}}],\"chains\":[],\"closed_bucket\":\"VeryLikelyOpen\",\"distance\":688,\"geocodes\":{\"main\":{\"latitude\":51.511387,\"longitude\":-0.116869},\"roof\":{\"latitude\":51.511387,\"longitude\":-0.116869}},\"link\":\"/v3/places/5e53df6702591a0008791559\",\"location\":{\"address\":\"Somerset House\",\"admin_region\":\"England\",\"country\":\"GB\",\"cross_street\":\"Aldwych\",\"formatted_address\":\"Somerset House (Aldwych), London, Greater London, WC2R 1EL\",\"locality\":\"London\",\"post_town\":\"London\",\"postcode\":\"WC2R 1EL\",\"region\":\"Greater London\"},\"name\":\"WatchHouse\",\"related_places\":{\"parent\":{\"fsq_id\":\"4ac518cff964a52063a620e3\",\"categories\":[{\"id\":16007,\"name\":\"Structure\",\"short_name\":\"Structure\",\"plural_name\":\"Structures\",\"icon\":{\"prefix\":\"https://ss3.4sqi.net/img/categories_v2/building/default_\",\"suffix\":\".png\"}}],\"name\":\"Somerset House\"}},\"timezone\":\"Europe/London\"},{\"fsq_id\":\"4c1512aaa9c220a1b77d589d\",\"categories\":[{\"id\":13034,\"name\":\"Café\",\"short_name\":\"Café\",\"plural_name\":\"Cafés\",\"icon\":{\"prefix\":\"https://ss3.4sqi.net/img/categories_v2/food/cafe_\",\"suffix\":\".png\"}},{\"id\":13263,\"name\":\"Japanese Restaurant\",\"short_name\":\"Japanese\",\"plural_name\":\"Japanese Restaurants\",\"icon\":{\"prefix\":\"https://ss3.4sqi.net/img/categories_v2/food/japanese_\",\"suffix\":\".png\"}}],\"chains\":[],\"closed_bucket\":\"LikelyOpen\",\"distance\":1009,\"geocodes\":{\"main\":{\"latitude\":51.512542,\"longitude\":-0.138695},\"roof\":{\"latitude\":51.512542,\"longitude\":-0.138695}},\"link\":\"/v3/places/4c1512aaa9c220a1b77d589d\",\"location\":{\"address\":\"Kingly Ct\",\"address_extended\":\"Ground Floor\",\"admin_region\":\"England\",\"country\":\"GB\",\"cross_street\":\"at Beak St\",\"formatted_address\":\"Kingly Ct (at Beak St), London, Greater London, W1B 5PW\",\"locality\":\"London\",\"post_town\":\"London\",\"postcode\":\"W1B 5PW\",\"region\":\"Greater London\"},\"name\":\"Kingly Court\",\"related_places\":{\"children\":[{\"fsq_id\":\"63caee2bc0ce925f94d9dbd9\",\"categories\":[{\"id\":13068,\"name\":\"American Restaurant\",\"short_name\":\"American\",\"plural_name\":\"American Restaurants\",\"icon\":{\"prefix\":\"https://ss3.4sqi.net/img/categories_v2/food/default_\",\"suffix\":\".png\"}}],\"name\":\"Stax\"},{\"fsq_id\":\"4acfc4e0f964a520ded520e3\",\"categories\":[{\"id\":13025,\"name\":\"Wine Bar\",\"short_name\":\"Wine Bar\",\"plural_name\":\"Wine Bars\",\"icon\":{\"prefix\":\"https://ss3.4sqi.net/img/categories_v2/food/winery_\",\"suffix\":\".png\"}},{\"id\":13142,\"name\":\"English Restaurant\",\"short_name\":\"English\",\"plural_name\":\"English Restaurants\",\"icon\":{\"prefix\":\"https://ss3.4sqi.net/img/categories_v2/food/default_\",\"suffix\":\".png\"}}],\"name\":\"Shampers\"},{\"fsq_id\":\"54c934ee498e9d243f70ace2\",\"categories\":[{\"id\":13263,\"name\":\"Japanese Restaurant\",\"short_name\":\"Japanese\",\"plural_name\":\"Japanese Restaurants\",\"icon\":{\"prefix\":\"https://ss3.4sqi.net/img/categories_v2/food/japanese_\",\"suffix\":\".png\"}}],\"name\":\"Oka Restaurant\"},{\"fsq_id\":\"59529b92c365881f92b3ca39\",\"categories\":[{\"id\":13199,\"name\":\"Indian Restaurant\",\"short_name\":\"Indian\",\"plural_name\":\"Indian Restaurants\",\"icon\":{\"prefix\":\"https://ss3.4sqi.net/img/categories_v2/food/indian_\",\"suffix\":\".png\"}}],\"name\":\"Darjeeling Express\"},{\"fsq_id\":\"62755ed795cee378c46a1a2f\",\"categories\":[{\"id\":13009,\"name\":\"Cocktail Bar\",\"short_name\":\"Cocktail\",\"plural_name\":\"Cocktail Bars\",\"icon\":{\"prefix\":\"https://ss3.4sqi.net/img/categories_v2/nightlife/cocktails_\",\"suffix\":\".png\"}},{\"id\":13065,\"name\":\"Restaurant\",\"short_name\":\"Restaurant\",\"plural_name\":\"Restaurants\",\"icon\":{\"prefix\":\"https://ss3.4sqi.net/img/categories_v2/food/default_\",\"suffix\":\".png\"}}],\"name\":\"Nightjar Carnaby\"},{\"fsq_id\":\"55edadf5498e6eaf305d746c\",\"categories\":[{\"id\":13068,\"name\":\"American Restaurant\",\"short_name\":\"American\",\"plural_name\":\"American Restaurants\",\"icon\":{\"prefix\":\"https://ss3.4sqi.net/img/categories_v2/food/default_\",\"suffix\":\".png\"}}],\"name\":\"Dirty Bones\"},{\"fsq_id\":\"54f8c615498ee2095266e9bf\",\"categories\":[{\"id\":13009,\"name\":\"Cocktail Bar\",\"short_name\":\"Cocktail\",\"plural_name\":\"Cocktail Bars\",\"icon\":{\"prefix\":\"https://ss3.4sqi.net/img/categories_v2/nightlife/cocktails_\",\"suffix\":\".png\"}},{\"id\":13021,\"name\":\"Speakeasy\",\"short_name\":\"Speakeasy\",\"plural_name\":\"Speakeasies\",\"icon\":{\"prefix\":\"https://ss3.4sqi.net/img/categories_v2/nightlife/secretbar_\",\"suffix\":\".png\"}}],\"name\":\"Cahoots\"},{\"fsq_id\":\"4d5aa4f01d6cf04d1a3b44fe\",\"categories\":[{\"id\":13338,\"name\":\"Seafood Restaurant\",\"short_name\":\"Seafood\",\"plural_name\":\"Seafood Restaurants\",\"icon\":{\"prefix\":\"https://ss3.4sqi.net/img/categories_v2/food/seafood_\",\"suffix\":\".png\"}}],\"name\":\"Wright Brothers\"},{\"fsq_id\":\"5856eb15ea1c0d49112a3951\",\"categories\":[{\"id\":13009,\"name\":\"Cocktail Bar\",\"short_name\":\"Cocktail\",\"plural_name\":\"Cocktail Bars\",\"icon\":{\"prefix\":\"https://ss3.4sqi.net/img/categories_v2/nightlife/cocktails_\",\"suffix\":\".png\"}},{\"id\":13065,\"name\":\"Restaurant\",\"short_name\":\"Restaurant\",\"plural_name\":\"Restaurants\",\"icon\":{\"prefix\":\"https://ss3.4sqi.net/img/categories_v2/food/default_\",\"suffix\":\".png\"}}],\"name\":\"Disrepute\"},{\"fsq_id\":\"5a1e9d6de96d0c41cd9fb8e0\",\"categories\":[{\"id\":13065,\"name\":\"Restaurant\",\"short_name\":\"Restaurant\",\"plural_name\":\"Restaurants\",\"icon\":{\"prefix\":\"https://ss3.4sqi.net/img/categories_v2/food/default_\",\"suffix\":\".png\"}}],\"name\":\"The Good Egg Soho\"},{\"fsq_id\":\"53cc1e0f498e11624ec96793\",\"categories\":[{\"id\":13064,\"name\":\"Pizzeria\",\"short_name\":\"Pizza\",\"plural_name\":\"Pizzerias\",\"icon\":{\"prefix\":\"https://ss3.4sqi.net/img/categories_v2/food/pizza_\",\"suffix\":\".png\"}}],\"name\":\"Pizza Pilgrims\"},{\"fsq_id\":\"53934ca6498e2660780f1da5\",\"categories\":[{\"id\":13049,\"name\":\"Diner\",\"short_name\":\"Diner\",\"plural_name\":\"Diners\",\"icon\":{\"prefix\":\"https://ss3.4sqi.net/img/categories_v2/food/diner_\",\"suffix\":\".png\"}}],\"name\":\"Stax Carnaby\"},{\"fsq_id\":\"63d4290014e89e01138355b6\",\"categories\":[{\"id\":13347,\"name\":\"Tapas Restaurant\",\"short_name\":\"Tapas\",\"plural_name\":\"Tapas Restaurants\",\"icon\":{\"prefix\":\"https://ss3.4sqi.net/img/categories_v2/food/tapas_\",\"suffix\":\".png\"}}],\"name\":\"Bar Kroketa Beak Street\"},{\"fsq_id\":\"5dd6d20376efcd000893159c\",\"categories\":[{\"id\":13009,\"name\":\"Cocktail Bar\",\"short_name\":\"Cocktail\",\"plural_name\":\"Cocktail Bars\",\"icon\":{\"prefix\":\"https://ss3.4sqi.net/img/categories_v2/nightlife/cocktails_\",\"suffix\":\".png\"}}],\"name\":\"Cahoots Signal Station\"},{\"fsq_id\":\"60fc50d7a0a973771e7ee5ce\",\"categories\":[{\"id\":13289,\"name\":\"Korean Restaurant\",\"short_name\":\"Korean\",\"plural_name\":\"Korean Restaurants\",\"icon\":{\"prefix\":\"https://ss3.4sqi.net/img/categories_v2/food/korean_\",\"suffix\":\".png\"}}],\"name\":\"Korean Dinner Party\"},{\"fsq_id\":\"5f71c635b3b4db31dc48d763\",\"categories\":[{\"id\":13303,\"name\":\"Mexican Restaurant\",\"short_name\":\"Mexican\",\"plural_name\":\"Mexican Restaurants\",\"icon\":{\"prefix\":\"https://ss3.4sqi.net/img/categories_v2/food/mexican_\",\"suffix\":\".png\"}},{\"id\":13377,\"name\":\"Vegan and Vegetarian Restaurant\",\"short_name\":\"Vegan and Vegetarian Restaurant\",\"plural_name\":\"Vegan and Vegetarian Restaurants\",\"icon\":{\"prefix\":\"https://ss3.4sqi.net/img/categories_v2/food/vegetarian_\",\"suffix\":\".png\"}}],\"name\":\"Club Mexicana\"},{\"fsq_id\":\"5c54411a3fcee80039d22633\",\"categories\":[{\"id\":13350,\"name\":\"Syrian Restaurant\",\"short_name\":\"Syrian Restaurant\",\"plural_name\":\"Syrian Restaurants\",\"icon\":{\"prefix\":\"https://ss3.4sqi.net/img/categories_v2/food/middleeastern_\",\"suffix\":\".png\"}}],\"name\":\"Imad's Syrian Kitchen\"},{\"fsq_id\":\"63caee2a76fec5153c46e972\",\"categories\":[{\"id\":13068,\"name\":\"American Restaurant\",\"short_name\":\"American\",\"plural_name\":\"American Restaurants\",\"icon\":{\"prefix\":\"https://ss3.4sqi.net/img/categories_v2/food/default_\",\"suffix\":\".png\"}}],\"name\":\"Stax\"},{\"fsq_id\":\"54381966498e0d9838b31727\",\"categories\":[{\"id\":13322,\"name\":\"Peruvian Restaurant\",\"short_name\":\"Peruvian\",\"plural_name\":\"Peruvian Restaurants\",\"icon\":{\"prefix\":\"https://ss3.4sqi.net/img/categories_v2/food/peruvian_\",\"suffix\":\".png\"}}],\"name\":\"Señor Ceviche\"},{\"fsq_id\":\"533d1873498e1a843cce8c93\",\"categories\":[{\"id\":13272,\"name\":\"Ramen Restaurant\",\"short_name\":\"Ramen\",\"plural_name\":\"Ramen Restaurants\",\"icon\":{\"prefix\":\"https://ss3.4sqi.net/img/categories_v2/food/ramen_\",\"suffix\":\".png\"}}],\"name\":\"Shoryu Ramen\"},{\"fsq_id\":\"6445371770fb514c04845bd8\",\"categories\":[{\"id\":13065,\"name\":\"Restaurant\",\"short_name\":\"Restaurant\",\"plural_name\":\"Restaurants\",\"icon\":{\"prefix\":\"https://ss3.4sqi.net/img/categories_v2/food/default_\",\"suffix\":\".png\"}}],\"name\":\"Paradiso Burger & Cocktail Bar Soho\"},{\"fsq_id\":\"567a8eda498e7c71feb1eadd\",\"categories\":[{\"id\":13302,\"name\":\"Mediterranean Restaurant\",\"short_name\":\"Mediterranean\",\"plural_name\":\"Mediterranean Restaurants\",\"icon\":{\"prefix\":\"https://ss3.4sqi.net/img/categories_v2/food/mediterranean_\",\"suffix\":\".png\"}},{\"id\":13309,\"name\":\"Middle Eastern Restaurant\",\"short_name\":\"Middle Eastern\",\"plural_name\":\"Middle Eastern Restaurants\",\"icon\":{\"prefix\":\"https://ss3.4sqi.net/img/categories_v2/food/middleeastern_\",\"suffix\":\".png\"}}],\"name\":\"Le Bab\"},{\"fsq_id\":\"4acddbd7f964a52048cd20e3\",\"categories\":[{\"id\":18028,\"name\":\"Yoga Studio\",\"short_name\":\"Yoga Studio\",\"plural_name\":\"Yoga Studios\",\"icon\":{\"prefix\":\"https://ss3.4sqi.net/img/categories_v2/shops/gym_yogastudio_\",\"suffix\":\".png\"}}],\"name\":\"Triyoga\"},{\"fsq_id\":\"51d80a19498e080e4aa4d147\",\"categories\":[{\"id\":13065,\"name\":\"Restaurant\",\"short_name\":\"Restaurant\",\"plural_name\":\"Restaurants\",\"icon\":{\"prefix\":\"https://ss3.4sqi.net/img/categories_v2/food/default_\",\"suffix\":\".png\"}},{\"id\":13003,\"name\":\"Bar\",\"short_name\":\"Bar\",\"plural_name\":\"Bars\",\"icon\":{\"prefix\":\"https://ss3.4sqi.net/img/categories_v2/nightlife/pub_\",\"suffix\":\".png\"}}],\"name\":\"Whyte & Brown\"},{\"fsq_id\":\"541c8442498e5208ed8c8868\",\"categories\":[{\"id\":13032,\"name\":\"Cafe, Coffee, and Tea House\",\"short_name\":\"Cafe, Coffee, and Tea House\",\"plural_name\":\"Cafes, Coffee, and Tea Houses\",\"icon\":{\"prefix\":\"https://ss3.4sqi.net/img/categories_v2/food/coffeeshop_\",\"suffix\":\".png\"}},{\"id\":13177,\"name\":\"Greek Restaurant\",\"short_name\":\"Greek\",\"plural_name\":\"Greek Restaurants\",\"icon\":{\"prefix\":\"https://ss3.4sqi.net/img/categories_v2/food/greek_\",\"suffix\":\".png\"}}],\"name\":\"The Life Goddess\"},{\"fsq_id\":\"54957eda498e361ed5d3ae38\",\"categories\":[{\"id\":13002,\"name\":\"Bakery\",\"short_name\":\"Bakery\",\"plural_name\":\"Bakeries\",\"icon\":{\"prefix\":\"https://ss3.4sqi.net/img/categories_v2/food/bakery_\",\"suffix\":\".png\"}},{\"id\":13042,\"name\":\"Cupcake Shop\",\"short_name\":\"Cupcakes\",\"plural_name\":\"Cupcake Shops\",\"icon\":{\"prefix\":\"https://ss3.4sqi.net/img/categories_v2/food/cupcakes_\",\"suffix\":\".png\"}},{\"id\":13065,\"name\":\"Restaurant\",\"short_name\":\"Restaurant\",\"plural_name\":\"Restaurants\",\"icon\":{\"prefix\":\"https://ss3.4sqi.net/img/categories_v2/food/default_\",\"suffix\":\".png\"}}],\"name\":\"Crumbs & Doilies\"}]},\"timezone\":\"Europe/London\"},{\"fsq_id\":\"5da05a3631ba060009a2e8b2\",\"categories\":[{\"id\":12069,\"name\":\"Government Department\",\"short_name\":\"Government Department\",\"plural_name\":\"Government Departments\",\"icon\":{\"prefix\":\"https://ss3.4sqi.net/img/categories_v2/building/default_\",\"suffix\":\".png\"}},{\"id\":13035,\"name\":\"Coffee Shop\",\"short_name\":\"Coffee Shop\",\"plural_name\":\"Coffee Shops\",\"icon\":{\"prefix\":\"https://ss3.4sqi.net/img/categories_v2/food/coffeeshop_\",\"suffix\":\".png\"}}],\"chains\":[],\"closed_bucket\":\"VeryLikelyOpen\",\"distance\":374,\"geocodes\":{\"main\":{\"latitude\":51.511767,\"longitude\":-0.123873},\"roof\":{\"latitude\":51.511767,\"longitude\":-0.123873}},\"link\":\"/v3/places/5da05a3631ba060009a2e8b2\",\"location\":{\"address\":\"7 Greenock Rd\",\"admin_region\":\"England\",\"country\":\"GB\",\"cross_street\":\"\",\"formatted_address\":\"7 Greenock Rd, Covent Garden, Greater London, WC2E 8HN\",\"locality\":\"London\",\"post_town\":\"London\",\"postcode\":\"WC2E 8HN\",\"region\":\"Greater London\"},\"name\":\"Arabica\",\"related_places\":{},\"timezone\":\"Europe/London\"},{\"fsq_id\":\"5d8cb0484956e90008e16a52\",\"categories\":[{\"id\":13035,\"name\":\"Coffee Shop\",\"short_name\":\"Coffee Shop\",\"plural_name\":\"Coffee Shops\",\"icon\":{\"prefix\":\"https://ss3.4sqi.net/img/categories_v2/food/coffeeshop_\",\"suffix\":\".png\"}},{\"id\":17057,\"name\":\"Food and Beverage Retail\",\"short_name\":\"Food & Beverage\",\"plural_name\":\"Food and Beverage Retail\",\"icon\":{\"prefix\":\"https://ss3.4sqi.net/img/categories_v2/shops/foodanddrink_\",\"suffix\":\".png\"}}],\"chains\":[],\"closed_bucket\":\"Unsure\",\"distance\":1418,\"geocodes\":{\"drop_off\":{\"latitude\":51.516559,\"longitude\":-0.14178},\"main\":{\"latitude\":51.516404,\"longitude\":-0.141752},\"roof\":{\"latitude\":51.516404,\"longitude\":-0.141752}},\"link\":\"/v3/places/5d8cb0484956e90008e16a52\",\"location\":{\"address\":\"51 Margaret St\",\"admin_region\":\"England\",\"country\":\"GB\",\"cross_street\":\"\",\"formatted_address\":\"51 Margaret St, London, Greater London, W1W 8SG\",\"locality\":\"London\",\"post_town\":\"London\",\"postcode\":\"W1W 8SG\",\"region\":\"Greater London\"},\"name\":\"Kiss the Hippo\",\"related_places\":{},\"timezone\":\"Europe/London\"},{\"fsq_id\":\"4ede68fdbe7be2833c6a17a2\",\"categories\":[{\"id\":13035,\"name\":\"Coffee Shop\",\"short_name\":\"Coffee Shop\",\"plural_name\":\"Coffee Shops\",\"icon\":{\"prefix\":\"https://ss3.4sqi.net/img/categories_v2/food/coffeeshop_\",\"suffix\":\".png\"}},{\"id\":13074,\"name\":\"Austrian Restaurant\",\"short_name\":\"Austrian\",\"plural_name\":\"Austrian Restaurants\",\"icon\":{\"prefix\":\"https://ss3.4sqi.net/img/categories_v2/food/austrian_\",\"suffix\":\".png\"}},{\"id\":13310,\"name\":\"Modern European Restaurant\",\"short_name\":\"Modern European\",\"plural_name\":\"Modern European Restaurants\",\"icon\":{\"prefix\":\"https://ss3.4sqi.net/img/categories_v2/food/default_\",\"suffix\":\".png\"}}],\"chains\":[],\"closed_bucket\":\"VeryLikelyOpen\",\"distance\":744,\"geocodes\":{\"main\":{\"latitude\":51.513115,\"longitude\":-0.118108},\"roof\":{\"latitude\":51.513115,\"longitude\":-0.118108}},\"link\":\"/v3/places/4ede68fdbe7be2833c6a17a2\",\"location\":{\"address\":\"55 Aldwych\",\"admin_region\":\"England\",\"country\":\"GB\",\"cross_street\":\"\",\"formatted_address\":\"55 Aldwych, London, Greater London, WC2B 4BB\",\"locality\":\"London\",\"post_town\":\"London\",\"postcode\":\"WC2B 4BB\",\"region\":\"Greater London\"},\"name\":\"The Delaunay\",\"related_places\":{},\"timezone\":\"Europe/London\"},{\"fsq_id\":\"61129aa3e3cdb17be6c6513f\",\"categories\":[{\"id\":13036,\"name\":\"Tea Room\",\"short_name\":\"Tea Room\",\"plural_name\":\"Tea Rooms\",\"icon\":{\"prefix\":\"https://ss3.4sqi.net/img/categories_v2/food/tearoom_\",\"suffix\":\".png\"}}],\"chains\":[],\"closed_bucket\":\"VeryLikelyOpen\",\"distance\":1593,\"geocodes\":{\"drop_off\":{\"latitude\":51.512775,\"longitude\":-0.147708},\"main\":{\"latitude\":51.512667,\"longitude\":-0.147686},\"roof\":{\"latitude\":51.512667,\"longitude\":-0.147686}},\"link\":\"/v3/places/61129aa3e3cdb17be6c6513f\",\"location\":{\"address\":\"Brook St\",\"admin_region\":\"England\",\"country\":\"GB\",\"cross_street\":\"\",\"formatted_address\":\"Brook St, London, Greater London, W1K 4HR\",\"locality\":\"London\",\"post_town\":\"London\",\"postcode\":\"W1K 4HR\",\"region\":\"Greater London\"},\"name\":\"Afternoon Tea at Clardige's\",\"related_places\":{\"parent\":{\"fsq_id\":\"4ac518b4f964a5206ba020e3\",\"categories\":[{\"id\":19014,\"name\":\"Hotel\",\"short_name\":\"Hotel\",\"plural_name\":\"Hotels\",\"icon\":{\"prefix\":\"https://ss3.4sqi.net/img/categories_v2/travel/hotel_\",\"suffix\":\".png\"}}],\"name\":\"Claridge's Asia\"}},\"timezone\":\"Europe/London\"}],\"context\":{\"geo_bounds\":{\"circle\":{\"center\":{\"latitude\":51.50853,\"longitude\":-0.12574},\"radius\":25968}}}}\n"
     ]
    }
   ],
   "source": [
    "# your code here\n",
    "place = \"London\"\n",
    "url = f\"https://api.foursquare.com/v3/places/search?categories=63be6904847c3692a84b9bb6&near={place}\"\n",
    "\n",
    "headers = {\n",
    "    \"accept\": \"application/json\",\n",
    "    \"Authorization\": api_key\n",
    "}\n",
    "\n",
    "response = requests.get(url, headers=headers)\n",
    "\n",
    "print(response.text)"
   ]
  },
  {
   "cell_type": "code",
   "execution_count": 35,
   "id": "b7ef1155",
   "metadata": {},
   "outputs": [],
   "source": [
    "places = response.json()[\"results\"]"
   ]
  },
  {
   "cell_type": "markdown",
   "id": "941b5dbf",
   "metadata": {},
   "source": [
    "# 3. Now get the 5 CLOSEST coffe places. Make use of params: limit, near?"
   ]
  },
  {
   "cell_type": "code",
   "execution_count": 36,
   "id": "fda8ddff",
   "metadata": {},
   "outputs": [
    {
     "name": "stdout",
     "output_type": "stream",
     "text": [
      "Arabica - Distance: 374\n",
      "Ladurée - Distance: 439\n",
      "Monmouth Coffee Company - Distance: 647\n",
      "WatchHouse - Distance: 688\n",
      "The Delaunay - Distance: 744\n"
     ]
    }
   ],
   "source": [
    "# your code here\n",
    "closest_places = sorted(places, key=lambda x: x['distance'])[:5]\n",
    "for closest_place in closest_places:\n",
    "    print(f\"{closest_place['name']} - Distance: {closest_place['distance']}\")"
   ]
  },
  {
   "cell_type": "markdown",
   "id": "d19904e8",
   "metadata": {},
   "source": [
    "# 4. Define a function that returns name, lat, long for starbucks OR restaurants AND for any given location"
   ]
  },
  {
   "cell_type": "code",
   "execution_count": 58,
   "id": "1fad5153",
   "metadata": {},
   "outputs": [],
   "source": [
    "def foursquare_places(venue=\"restaurant\", coordinates=None):\n",
    "    headers = {\n",
    "        \"accept\": \"application/json\",\n",
    "        \"Authorization\": api_key\n",
    "    }\n",
    "\n",
    "    base_url = f\"https://api.foursquare.com/v3/places/search?near={coordinates}\"\n",
    "    if venue == \"restaurant\":\n",
    "        url = f\"{base_url}&categories=4d4b7105d754a06374d81259\"\n",
    "        response = requests.get(url, headers=headers)\n",
    "    else:\n",
    "        url = f\"{base_url}&query=starbucks\"\n",
    "        response = requests.get(url, headers=headers)\n",
    "    places = response.json()[\"results\"]\n",
    "    data = [{\"name\": place[\"name\"], \n",
    "             \"latitude\": place[\"geocodes\"][\"main\"][\"latitude\"], \n",
    "             \"longitude\": place[\"geocodes\"][\"main\"][\"longitude\"]} for place in places]\n",
    "    df = pd.DataFrame(data)\n",
    "    return df"
   ]
  },
  {
   "cell_type": "code",
   "execution_count": 59,
   "id": "167145a9",
   "metadata": {},
   "outputs": [
    {
     "data": {
      "text/html": [
       "<div>\n",
       "<style scoped>\n",
       "    .dataframe tbody tr th:only-of-type {\n",
       "        vertical-align: middle;\n",
       "    }\n",
       "\n",
       "    .dataframe tbody tr th {\n",
       "        vertical-align: top;\n",
       "    }\n",
       "\n",
       "    .dataframe thead th {\n",
       "        text-align: right;\n",
       "    }\n",
       "</style>\n",
       "<table border=\"1\" class=\"dataframe\">\n",
       "  <thead>\n",
       "    <tr style=\"text-align: right;\">\n",
       "      <th></th>\n",
       "      <th>name</th>\n",
       "      <th>latitude</th>\n",
       "      <th>longitude</th>\n",
       "    </tr>\n",
       "  </thead>\n",
       "  <tbody>\n",
       "    <tr>\n",
       "      <th>0</th>\n",
       "      <td>Flat Iron</td>\n",
       "      <td>51.510736</td>\n",
       "      <td>-0.123950</td>\n",
       "    </tr>\n",
       "    <tr>\n",
       "      <th>1</th>\n",
       "      <td>Southbank Centre</td>\n",
       "      <td>51.505652</td>\n",
       "      <td>-0.116439</td>\n",
       "    </tr>\n",
       "    <tr>\n",
       "      <th>2</th>\n",
       "      <td>Dishoom</td>\n",
       "      <td>51.512441</td>\n",
       "      <td>-0.126851</td>\n",
       "    </tr>\n",
       "    <tr>\n",
       "      <th>3</th>\n",
       "      <td>Dishoom Carnaby</td>\n",
       "      <td>51.513093</td>\n",
       "      <td>-0.139642</td>\n",
       "    </tr>\n",
       "    <tr>\n",
       "      <th>4</th>\n",
       "      <td>Ladurée</td>\n",
       "      <td>51.512038</td>\n",
       "      <td>-0.122701</td>\n",
       "    </tr>\n",
       "    <tr>\n",
       "      <th>5</th>\n",
       "      <td>Flat Iron</td>\n",
       "      <td>51.512179</td>\n",
       "      <td>-0.138367</td>\n",
       "    </tr>\n",
       "    <tr>\n",
       "      <th>6</th>\n",
       "      <td>Scott's</td>\n",
       "      <td>51.509869</td>\n",
       "      <td>-0.150851</td>\n",
       "    </tr>\n",
       "    <tr>\n",
       "      <th>7</th>\n",
       "      <td>The MAINE Mayfair</td>\n",
       "      <td>51.513727</td>\n",
       "      <td>-0.144661</td>\n",
       "    </tr>\n",
       "    <tr>\n",
       "      <th>8</th>\n",
       "      <td>Lalï</td>\n",
       "      <td>51.510606</td>\n",
       "      <td>-0.145458</td>\n",
       "    </tr>\n",
       "    <tr>\n",
       "      <th>9</th>\n",
       "      <td>St Christopher's Place</td>\n",
       "      <td>51.515142</td>\n",
       "      <td>-0.150304</td>\n",
       "    </tr>\n",
       "  </tbody>\n",
       "</table>\n",
       "</div>"
      ],
      "text/plain": [
       "                     name   latitude  longitude\n",
       "0               Flat Iron  51.510736  -0.123950\n",
       "1        Southbank Centre  51.505652  -0.116439\n",
       "2                 Dishoom  51.512441  -0.126851\n",
       "3         Dishoom Carnaby  51.513093  -0.139642\n",
       "4                 Ladurée  51.512038  -0.122701\n",
       "5               Flat Iron  51.512179  -0.138367\n",
       "6                 Scott's  51.509869  -0.150851\n",
       "7       The MAINE Mayfair  51.513727  -0.144661\n",
       "8                    Lalï  51.510606  -0.145458\n",
       "9  St Christopher's Place  51.515142  -0.150304"
      ]
     },
     "execution_count": 59,
     "metadata": {},
     "output_type": "execute_result"
    }
   ],
   "source": [
    "foursquare_places(\"restaurant\", \"London\")"
   ]
  },
  {
   "cell_type": "markdown",
   "id": "1836c1a1",
   "metadata": {},
   "source": [
    "# 5. Export it into data folder as a json: `data/coffe_shops.json`"
   ]
  },
  {
   "cell_type": "code",
   "execution_count": 61,
   "id": "7ac5f2a8",
   "metadata": {},
   "outputs": [],
   "source": [
    "# your code here\n",
    "foursquare_results = foursquare_places(\"restaurant\", \"London\")\n",
    "foursquare_results.to_json(\"data/coffe_shops.json\", orient=\"records\", lines=True)"
   ]
  }
 ],
 "metadata": {
  "kernelspec": {
   "display_name": "datasci_env",
   "language": "python",
   "name": "python3"
  },
  "language_info": {
   "codemirror_mode": {
    "name": "ipython",
    "version": 3
   },
   "file_extension": ".py",
   "mimetype": "text/x-python",
   "name": "python",
   "nbconvert_exporter": "python",
   "pygments_lexer": "ipython3",
   "version": "3.8.20"
  },
  "toc": {
   "base_numbering": 1,
   "nav_menu": {},
   "number_sections": true,
   "sideBar": true,
   "skip_h1_title": false,
   "title_cell": "Table of Contents",
   "title_sidebar": "Contents",
   "toc_cell": false,
   "toc_position": {},
   "toc_section_display": true,
   "toc_window_display": true
  }
 },
 "nbformat": 4,
 "nbformat_minor": 5
}
